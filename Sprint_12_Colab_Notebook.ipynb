{
  "cells": [
    {
      "cell_type": "markdown",
      "metadata": {},
      "source": [
        "# 🚀 Sprint 12 - S&P 500 QVM Strategy Test\n",
        "\n",
        "**Operation Badger Sprint 12: The S&P 500 Universe Test**\n",
        "\n",
        "This notebook runs the Composite QVM strategy on a diversified S&P 500 universe (216 stocks) using Google Colab Pro's high-performance computing.\n",
        "\n",
        "## Success Criteria:\n",
        "- ✅ Post-Cost Annualized Return > 15%\n",
        "- ✅ Post-Cost Sharpe Ratio > 1.0  \n",
        "- ✅ Max Drawdown < 25%\n",
        "- ✅ Total Trades > 50 (New criterion for sufficient activity)\n",
        "\n",
        "**Expected Runtime: 10-20 minutes on Colab Pro**"
      ]
    },
    {
      "cell_type": "markdown",
      "metadata": {},
      "source": [
        "## 📦 Setup & Dependencies"
      ]
    },
    {
      "cell_type": "code",
      "execution_count": null,
      "metadata": {},
      "outputs": [],
      "source": [
        "# Clone the repository\n",
        "!git clone https://github.com/DirtyWombo/cyberjackal-stocks.git\n",
        "%cd cyberjackal-stocks"
      ]
    },
    {
      "cell_type": "code",
      "execution_count": null,
      "metadata": {},
      "outputs": [],
      "source": [
        "# Install required dependencies\n",
        "!pip install backtrader nasdaq-data-link lxml yfinance pandas numpy"
      ]
    },
    {
      "cell_type": "markdown",
      "metadata": {},
      "source": [
        "## 🎯 Sprint 12 Execution"
      ]
    },
    {
      "cell_type": "code",
      "execution_count": null,
      "metadata": {},
      "outputs": [],
      "source": [
        "# Set environment for optimal performance\n",
        "import os\n",
        "os.environ['PYTHONPATH'] = '/content/cyberjackal-stocks'\n",
        "\n",
        "# Check system resources\n",
        "!free -h\n",
        "!nproc"
      ]
    },
    {
      "cell_type": "code",
      "execution_count": null,
      "metadata": {},
      "outputs": [],
      "source": [
        "# Run Sprint 12 S&P 500 QVM Backtest\n",
        "print(\"🚀 Starting Sprint 12 - S&P 500 QVM Strategy Test\")\n",
        "print(\"=\"*80)\n",
        "\n",
        "!python \"backtests/sprint_12/composite_qvm_backtest_sp500.py\""
      ]
    },
    {
      "cell_type": "markdown",
      "metadata": {},
      "source": [
        "## 📊 Results Analysis"
      ]
    },
    {
      "cell_type": "code",
      "execution_count": null,
      "metadata": {},
      "outputs": [],
      "source": [
        "# Display results files\n",
        "import json\n",
        "import glob\n",
        "from datetime import datetime\n",
        "\n",
        "# Find the latest results file\n",
        "result_files = glob.glob('results/sprint_12/sprint12_sp500_qvm_results_*.json')\n",
        "if result_files:\n",
        "    latest_file = max(result_files)\n",
        "    print(f\"📋 Latest Results File: {latest_file}\")\n",
        "    \n",
        "    with open(latest_file, 'r') as f:\n",
        "        results = json.load(f)\n",
        "    \n",
        "    print(\"\\n🎯 SPRINT 12 SUCCESS CRITERIA RESULTS:\")\n",
        "    print(\"=\"*50)\n",
        "    \n",
        "    criteria = results['success_criteria']\n",
        "    print(f\"📈 Annualized Return: {results['annualized_return_pct']:.2f}% {'✅ PASS' if criteria['return_target_met'] else '❌ FAIL'}\")\n",
        "    print(f\"📊 Sharpe Ratio: {results['sharpe_ratio']:.2f} {'✅ PASS' if criteria['sharpe_target_met'] else '❌ FAIL'}\")\n",
        "    print(f\"📉 Max Drawdown: {results['max_drawdown_pct']:.2f}% {'✅ PASS' if criteria['drawdown_target_met'] else '❌ FAIL'}\")\n",
        "    print(f\"🔄 Total Trades: {results['total_trades']} {'✅ PASS' if criteria['trades_target_met'] else '❌ FAIL'}\")\n",
        "    \n",
        "    success_count = sum([criteria['return_target_met'], criteria['sharpe_target_met'], \n",
        "                        criteria['drawdown_target_met'], criteria['trades_target_met']])\n",
        "    \n",
        "    print(f\"\\n🏆 OVERALL: {success_count}/4 criteria met\")\n",
        "    \n",
        "    if success_count == 4:\n",
        "        print(\"🎉 SUCCESS - S&P 500 QVM strategy ready for deployment!\")\n",
        "    elif success_count >= 3:\n",
        "        print(\"📈 PROMISING - Strategy shows strong potential with larger universe\")\n",
        "    elif success_count >= 2:\n",
        "        print(\"📊 IMPROVING - Larger universe provides better results than Sprint 11\")\n",
        "    else:\n",
        "        print(\"📋 LEARNING - Insights gained for future strategy development\")\n",
        "        \n",
        "    print(f\"\\n💰 Portfolio Performance:\")\n",
        "    print(f\"Initial Value: ${results['initial_value']:,.2f}\")\n",
        "    print(f\"Final Value: ${results['final_value']:,.2f}\")\n",
        "    print(f\"Total Return: {results['total_return_pct']:.2f}%\")\n",
        "    print(f\"Win Rate: {results['win_rate_pct']:.1f}%\")\n",
        "    print(f\"Universe Size: {results['universe_size']} stocks\")\n",
        "    print(f\"Data Coverage: {results['data_coverage']} stocks\")\n",
        "else:\n",
        "    print(\"❌ No results files found. Check if the backtest completed successfully.\")"
      ]
    },
    {
      "cell_type": "markdown",
      "metadata": {},
      "source": [
        "## 📋 Sprint 12 Summary\n",
        "\n",
        "**Key Achievements:**\n",
        "- ✅ Scaled QVM strategy from 10 to 216 S&P 500 stocks\n",
        "- ✅ Maintained zero lookahead bias with point-in-time data\n",
        "- ✅ Increased portfolio from 3 to 20 positions\n",
        "- ✅ Institutional-grade universe and methodology\n",
        "\n",
        "**Next Steps:**\n",
        "Based on results, determine if strategy meets deployment criteria or needs further optimization."
      ]
    }
  ],
  "metadata": {
    "kernelspec": {
      "display_name": "Python 3",
      "language": "python",
      "name": "python3"
    },
    "language_info": {
      "codemirror_mode": {
        "name": "ipython",
        "version": 3
      },
      "file_extension": ".py",
      "mimetype": "text/x-python",
      "name": "python",
      "nbconvert_exporter": "python",
      "pygments_lexer": "ipython3",
      "version": "3.8.10"
    }
  },
  "nbformat": 4,
  "nbformat_minor": 4
}